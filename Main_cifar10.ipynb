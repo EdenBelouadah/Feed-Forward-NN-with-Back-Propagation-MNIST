{
 "cells": [
  {
   "cell_type": "markdown",
   "metadata": {},
   "source": [
    "## TP2:\n",
    "\n",
    "Au cours du TP1, nous avons étudié le modèle *Softmax* pour traiter le problème de classification probabiliste. Le but était de présenter deux étapes importantes de l'entraînement : la forward propagation et la mise à jour des paramètres. Le TP2 reprend le modèle Softmax dans un cadre plus général, celui des réseaux de neurones avec couches cachèes.\n",
    "Dans ce cadre, on peut considérer le modèle Softmax comme un \"module\" qui prend en entrèe des \"features\", e.g. les pixels d'une image, et qui donne en sortie une loi de probabilité sur les étiquettes.\n",
    "Un réseau de neurones est composé de plusieurs modules, transformant simplement les features d'un espace à un autre en fonction des valeurs courantes des paramètres. Ainsi, le but de l'entraînement est d'apprendre les transformations pertinentes, i.e., en modifiant les paramètres, qui permettront de réaliser la tâche associée au module de sortie. En augmentant le nombre de modules (mais aussi de fonctions non-linéaires), on augmente ainsi la complexité du modèle.\n",
    "\n",
    "Le premier but du TP2 est de programmer les trois étapes essentielles à l'entraînement d'un réseau de neurones : la *forward propagation*, la *backpropagation* et la *mise à jour des paramètres*. Vérifiez que votre modèle fonctionne. Ensuite, vous pourrez comparer les performances de votre réseau de neurones avec celles de votre modèle Softmax de la semaine dernière.\n",
    "\n",
    "Une fois ces bases réalisées, on va pouvoir ajouter plusieurs fonctions d'activations en plus de la classique *sigmoïde*: les *tanh* et *relu*. Vous pourrez comparer la sigmoïde et la tanh avec la relu, notamment lorsque l'on utilise 2 couches cachées ou plus. Vous pourrez aussi mettre en évidence le phénomène de sur-apprentissage (travaillez avec une petite sous partie des données si nécessaire).\n",
    "Pour rappel, les fonctions sont:\n",
    "\n",
    "$$ tanh(x) = \\frac{e^{x} - e^{-x}}{e^{x} + e^{-x}}$$\n",
    "\n",
    "$$ relu(x) = max(0, x) $$\n",
    "\n",
    "Remarque: La fonction relu est plus instable numériquement que les deux autres. Il est possible qu'il soit nécessaire de réduire le taux d'apprentissage (ou de l'apapter, en le réduisant au fur et à mesure que l'apprentissage progresse) ou de forcer les valeurs de la relu à rester en dessous d'une limite que l'on choisit (*clipping*).\n",
    "\n",
    "Enfin, on va implémenter la *régularisation*: on ajoutera à la fonction de mise à jour des paramètres les méthodes de régularisation *L1* et *L2*. Il s'agira ensuite de vérifier leur influence sur les courbes d'apprentissage en faisant varier le paramètre $\\lambda$.\n",
    "\n",
    "A faire: \n",
    "- Compléter les fonctions:\n",
    "    - getDimDataset\n",
    "    - sigmoid\n",
    "    - forward\n",
    "    - backward\n",
    "    - update\n",
    "    - softmax\n",
    "    - computeLoss\n",
    "    - getMiniBatch\n",
    "- Compléter les fonctions:\n",
    "    - tanh\n",
    "    - relu\n",
    "    - et faire les expériences demandées.\n",
    "- Compléter les fonctions:\n",
    "    - updateParams\n",
    "    - et faire les expériences demandées.\n",
    "- Envoyer le notebook avec le code complété avant le **13 décembre 2017** à l'adresse **labeau@limsi.fr** accompagné d'un résumé d'un maximum de 6 pages contenant des figures et des analyses rapides des expériences demandées.\n",
    "- Le résumé doit être succinct et se focaliser uniquement sur les points essentiels reliés à l'entraînement des réseaux de neurones. En plus des résultats, ce document doit décrire les difficultés que vous avez rencontrées et, dans le cas échéant, les solutions utilisées pour les résoudre. Vous pouvez aussi y décrire vos questions ouvertes et proposer une expérience sur MNIST afin d'y répondre.\n",
    "\n"
   ]
  },
  {
   "cell_type": "code",
   "execution_count": 1,
   "metadata": {
    "scrolled": true
   },
   "outputs": [
    {
     "name": "stdout",
     "output_type": "stream",
     "text": [
      "(50000, 3072, 10)\n"
     ]
    }
   ],
   "source": [
    "%matplotlib inline\n",
    "import os\n",
    "import sys\n",
    "import numpy as np\n",
    "import matplotlib.pyplot as plt\n",
    "import math\n",
    "import time\n",
    "from IPython.display import clear_output\n",
    "\n",
    "if(\"mnist.pkl.gz\" not in os.listdir(\".\")):\n",
    "    !wget http://deeplearning.net/data/mnist/mnist.pkl.gz\n",
    "\n",
    "#####################\n",
    "# Gestion des données\n",
    "#####################  \n",
    "import dataset_loader\n",
    "train_set, valid_set, test_set = dataset_loader.load_cifar10()\n",
    "\n",
    "def getDimDataset(train_set):\n",
    "    n_training = len(train_set[0])\n",
    "    n_feature = len(train_set[0][0])\n",
    "    n_label = len(set(train_set[1]))\n",
    "    return n_training, n_feature, n_label\n",
    "\n",
    "n_training, n_feature, n_label = getDimDataset(train_set)\n",
    "print(n_training,n_feature,n_label)\n",
    "\n",
    "########################\n",
    "# Gestion des paramètres\n",
    "########################\n",
    "\n",
    "# Taille de la couche cachée: sous forme de liste, il est possible\n",
    "# d'utiliser plusieurs couches cachées, avec par exemple [128, 64]\n",
    "n_hidden =[25, 25]\n",
    "\n",
    "# Fonction d'activation: à choisir parmi 'sigmoid', 'tanh' et 'relu'\n",
    "acti_fun = 'relu'\n",
    "\n",
    "# Taille du batch\n",
    "batch_size = 500\n",
    "\n",
    "# Taux d'apprentissage:\n",
    "eta = 0.01\n",
    "\n",
    "# Nombre d'époques:\n",
    "n_epoch = 45"
   ]
  },
  {
   "cell_type": "code",
   "execution_count": 2,
   "metadata": {
    "collapsed": true
   },
   "outputs": [],
   "source": [
    "def getMiniBatch(i, batch_size, train_set, one_hot):\n",
    "    \"\"\"\n",
    "    Return a minibatch from the training set and the associated labels\n",
    "    Inputs: i: the identifier of the minibatch - int\n",
    "          : batch_size: the number of training examples - int\n",
    "          : train_set: the training set - ndarray\n",
    "          : one_hot: the one-hot representation of the labels - ndarray\n",
    "    Outputs: the minibatch of examples - ndarray\n",
    "           : the minibatch of labels - ndarray\n",
    "           : the number of examples in the minibatch - int\n",
    "    \"\"\"\n",
    "    idx_begin = i\n",
    "    idx_end = i+batch_size\n",
    "    batch = train_set[0][idx_begin:idx_end]\n",
    "    one_hot=one_hot.transpose()\n",
    "    one_hot_batch = one_hot[idx_begin:idx_end,:]\n",
    "    mini_batch_size = batch.shape[0]\n",
    "    return np.asfortranarray(batch), one_hot_batch, mini_batch_size"
   ]
  },
  {
   "cell_type": "code",
   "execution_count": 3,
   "metadata": {
    "collapsed": true
   },
   "outputs": [],
   "source": [
    "def initNetwork(nn_arch, act_func_name):\n",
    "    \"\"\"\n",
    "    Initialize the neural network weights, activation function and return the number of parameters\n",
    "    Inputs: nn_arch: the number of units per hidden layer -  list of int\n",
    "          : act_func_name: the activation function name (sigmoid, tanh or relu) - str\n",
    "    Outputs: W: a list of weights for each hidden layer - list of ndarray\n",
    "           : B: a list of bias for each hidden layer - list of ndarray\n",
    "           : act_func: the activation function - function\n",
    "           : nb_params: the number of parameters  - int\n",
    "    \"\"\"\n",
    "    W,B = [],[]\n",
    "    sigma = 1.0\n",
    "    act_func = globals()[act_func_name] # Cast the string to a function\n",
    "    nb_params = 0\n",
    "\n",
    "    if act_func_name=='sigmoid':\n",
    "        sigma = 4.0\n",
    "\n",
    "    for i in range(np.size(nn_arch)-1):\n",
    "        w = np.random.normal(loc=0.0, scale=sigma/np.sqrt(nn_arch[i]), size=(nn_arch[i+1],nn_arch[i]))\n",
    "        W.append(w)\n",
    "        b = np.zeros((w.shape[0],1))\n",
    "        if act_func_name=='sigmoid':\n",
    "            b = np.sum(w,1).reshape(-1,1)/-2.0\n",
    "        B.append(b)\n",
    "        nb_params += nn_arch[i+1] * nn_arch[i] + nn_arch[i+1]\n",
    "\n",
    "    return W,B,act_func,nb_params"
   ]
  },
  {
   "cell_type": "code",
   "execution_count": 4,
   "metadata": {
    "collapsed": true
   },
   "outputs": [],
   "source": [
    "########################\n",
    "# Fonctions d'activation\n",
    "########################\n",
    "\n",
    "def sigmoid(z, grad_flag=True):\n",
    "    \"\"\"\n",
    "    Perform the sigmoid transformation to the pre-activation values\n",
    "    Inputs: z: the pre-activation values - ndarray\n",
    "          : grad_flag: flag for computing the derivatives w.r.t. z - boolean\n",
    "    Outputs: y: the activation values - ndarray\n",
    "           : yp: the derivatives w.r.t. z - ndarray\n",
    "    \"\"\"\n",
    "    y=1.0/(1+np.exp(-1*z))\n",
    "    yp=y*(1-y)\n",
    "    return y, yp\n",
    "\n",
    "\n",
    "def tanh(z, grad_flag=True):\n",
    "    \"\"\"\n",
    "    Perform the tanh transformation to the pre-activation values\n",
    "    Inputs: z: the pre-activation values - ndarray\n",
    "          : grad_flag: flag for computing the derivatives w.r.t. z - boolean\n",
    "    Outputs: y: the activation values - ndarray\n",
    "    \"\"\"\n",
    "    y=(np.exp(z)-np.exp(-1*z))/(np.exp(z)+np.exp(-1*z))\n",
    "    yp=1-np.power(y,2)\n",
    "    return y, yp\n",
    "\n",
    "\n",
    "def relu(z, grad_flag=True):\n",
    "    \"\"\"\n",
    "    Perform the relu transformation to the pre-activation values\n",
    "    Inputs: z: the pre-activation values - ndarray\n",
    "          : grad_flag: flag for computing the derivatives w.r.t. z - boolean\n",
    "    Outputs: y: the activation values - ndarray\n",
    "    \"\"\"\n",
    "    y=np.maximum(0,z)\n",
    "    yp=np.zeros_like(y)\n",
    "    yp[y>0]=1\n",
    "    return y, yp\n"
   ]
  },
  {
   "cell_type": "code",
   "execution_count": 5,
   "metadata": {
    "collapsed": true
   },
   "outputs": [],
   "source": [
    "####################\n",
    "# Création du réseau\n",
    "####################\n",
    "\n",
    "### Network Architecture\n",
    "nn_arch = np.array([n_feature] + n_hidden + [n_label])\n",
    "\n",
    "### Create the neural network\n",
    "W, B, act_func, nb_params = initNetwork(nn_arch, acti_fun)"
   ]
  },
  {
   "cell_type": "code",
   "execution_count": 6,
   "metadata": {
    "collapsed": true,
    "scrolled": true
   },
   "outputs": [],
   "source": [
    "def forward(act_func, W, B, X):\n",
    "    \"\"\"\n",
    "    Perform the forward propagation\n",
    "    Inputs: act_func: the activation function - function\n",
    "          : W: the weights - list of ndarray\n",
    "          : B: the bias - list of ndarray\n",
    "          : X: the batch - ndarray\n",
    "    Outputs: Y: a list of activation values - list of ndarray\n",
    "           : Yp: a list of the derivatives w.r.t. the pre-activation of the activation values - list of ndarray\n",
    "    \"\"\"\n",
    "    a=X\n",
    "    Yp=[]\n",
    "    Y=[a]\n",
    "    for i in range(len(W)-1):\n",
    "        z=(a.dot(W[i].transpose()))+B[i].transpose()\n",
    "        y,yp=act_func(z)\n",
    "        Y.append(y)\n",
    "        Yp.append(yp)\n",
    "        a=y\n",
    "    \n",
    "    z=(a.dot(W[-1].transpose()))+B[-1].transpose()\n",
    "    Y.append(z)    \n",
    "    return Y, Yp"
   ]
  },
  {
   "cell_type": "code",
   "execution_count": 7,
   "metadata": {
    "collapsed": true
   },
   "outputs": [],
   "source": [
    "def softmax(z):\n",
    "    \"\"\"\n",
    "        Perform the softmax transformation to the pre-activation values\n",
    "        :param z: the pre-activation values\n",
    "        :type z: ndarray\n",
    "        :return: the activation values\n",
    "        :rtype: ndarray\n",
    "    \"\"\"\n",
    "    exps = np.exp(z-np.max(z,axis=1).reshape(-1,1))\n",
    "    somme_exps = np.sum(exps,axis=1)\n",
    "    for i in range(somme_exps.shape[0]):\n",
    "        exps[i]/=somme_exps[i]\n",
    "    return exps"
   ]
  },
  {
   "cell_type": "code",
   "execution_count": 8,
   "metadata": {
    "collapsed": true,
    "scrolled": false
   },
   "outputs": [],
   "source": [
    "def backward(error, W, Yp): \n",
    "    \"\"\"\n",
    "    Perform the backward propagation\n",
    "    Inputs: error: the gradient w.r.t. to the last layer - ndarray\n",
    "          : W: the weights - list of ndarray\n",
    "          : Yp: the derivatives w.r.t. the pre-activation of the activation functions - list of ndarray\n",
    "    Outputs: gradb: a list of gradient w.r.t. the pre-activation with this order [gradb_layer1, ..., error] - list of ndarray\n",
    "    \"\"\"  \n",
    "    gradB = [error]\n",
    "    for w, yp in zip(reversed(W), reversed(Yp)):\n",
    "        error = error.dot(w) * yp\n",
    "        gradB.append(error)\n",
    "    gradB.reverse()\n",
    "    return gradB"
   ]
  },
  {
   "cell_type": "code",
   "execution_count": 9,
   "metadata": {
    "collapsed": true
   },
   "outputs": [],
   "source": [
    "def updateParams(theta, dtheta, eta, regularizer=None, lamda=0.):\n",
    "    \"\"\"\n",
    "    Perform the update of the parameters\n",
    "    Inputs: theta: the network parameters - ndarray w\n",
    "          : dtheta: the updates of the parameters - ndarray\n",
    "          : eta: the step-size of the gradient descent - float\n",
    "          : regularizer: choice of the regularizer: None, 'L1', or 'L2'\n",
    "          : lambda: hyperparamater giving the importance of the regularizer - float\n",
    "    Outputs: the parameters updated - ndarray\n",
    "    \"\"\"\n",
    "    theta=np.copy(theta)\n",
    "    if regularizer=='L1':\n",
    "        theta+=lamda*np.abs(theta)\n",
    "    elif regularizer=='L2':\n",
    "        theta+=lamda*np.power(theta,2)\n",
    "    return theta - eta * dtheta"
   ]
  },
  {
   "cell_type": "code",
   "execution_count": 10,
   "metadata": {
    "collapsed": true
   },
   "outputs": [],
   "source": [
    "def update(eta, batch_size, W, B, gradB, Y, regularizer, lamda):\n",
    "    \"\"\"\n",
    "    Perform the update of the parameters\n",
    "    Inputs: eta: the step-size of the gradient descent - float \n",
    "          : batch_size: number of examples in the batch (for normalizing) - int\n",
    "          : W: the weights - list of ndarray\n",
    "          : B: the bias -  list of ndarray\n",
    "          : gradB: the gradient of the activations w.r.t. to the loss -  list of ndarray\n",
    "          : Y: the activation values -  list of ndarray\n",
    "    Outputs: W: the weights updated -  list of ndarray\n",
    "           : B: the bias updated -  list of ndarray\n",
    "    \"\"\"  \n",
    "    for k in range(len(W)):\n",
    "        grad_w=((gradB[k].transpose()).dot(Y[k]))/batch_size\n",
    "        W[k]=updateParams(W[k],grad_w, eta,regularizer,lamda)\n",
    "        grad_b = (np.sum(gradB[k],0).reshape(-1,1))/batch_size\n",
    "        B[k]=updateParams(B[k],grad_b, eta,regularizer,lamda)       \n",
    "    return W,B"
   ]
  },
  {
   "cell_type": "code",
   "execution_count": 11,
   "metadata": {
    "collapsed": true
   },
   "outputs": [],
   "source": [
    "def computeLoss(act_func, W, B, X, labels):\n",
    "    \"\"\"\n",
    "    Compute the loss value of the current network on the full batch\n",
    "    Inputs: act_func: the activation function - function\n",
    "          : W: the weights - list of ndarray\n",
    "          : B: the bias - list of ndarray\n",
    "          : X: the batch - ndarray\n",
    "          : labels: the labels corresponding to the batch\n",
    "    Outputs: loss: the negative log-likelihood - float\n",
    "           : accuracy: the ratio of examples that are well-classified - float\n",
    "    \"\"\" \n",
    "    ### Forward propagation\n",
    "    Y, Yp = forward(act_func, W, B, X)\n",
    " \n",
    "    ### Compute the softmax and the prediction\n",
    "    out = softmax(Y[-1])\n",
    "    \n",
    "    #Loss and Accuracy    \n",
    "    loss = -np.sum(np.log(out[np.arange(out.shape[0]), labels]))/labels.shape[0]\n",
    "    accuracy = np.mean((np.argmax(out, axis=1) == labels).astype(np.float, copy=False))\n",
    "    return loss, accuracy"
   ]
  },
  {
   "cell_type": "code",
   "execution_count": 12,
   "metadata": {
    "scrolled": true
   },
   "outputs": [
    {
     "name": "stdout",
     "output_type": "stream",
     "text": [
      "Architecture = [3072   25   25   10] | Batch size = 500 | Eta = 0.01 | Act Func=relu\n",
      "01/45 1.21s Tloss=2.178 Taccu=20.67% Vloss=2.175 Vaccu=20.99% Eta=0.012\n",
      "02/45 2.45s Tloss=2.077 Taccu=24.4% Vloss=2.072 Vaccu=24.18% Eta=0.0144\n",
      "03/45 3.96s Tloss=2.03 Taccu=27.0% Vloss=2.026 Vaccu=26.52% Eta=0.01728\n",
      "04/45 5.46s Tloss=2.04 Taccu=26.74% Vloss=2.037 Vaccu=26.67% Eta=0.015552\n",
      "05/45 7.35s Tloss=2.069 Taccu=26.2% Vloss=2.067 Vaccu=26.27% Eta=0.0139968\n",
      "06/45 8.97s Tloss=2.041 Taccu=27.39% Vloss=2.04 Vaccu=27.4% Eta=0.01679616\n",
      "07/45 10.38s Tloss=2.074 Taccu=27.24% Vloss=2.072 Vaccu=27.38% Eta=0.015116544\n",
      "08/45 11.78s Tloss=2.112 Taccu=26.54% Vloss=2.109 Vaccu=26.87% Eta=0.0136048896\n",
      "09/45 13.18s Tloss=2.054 Taccu=27.94% Vloss=2.055 Vaccu=27.67% Eta=0.01632586752\n",
      "10/45 14.52s Tloss=2.12 Taccu=27.44% Vloss=2.119 Vaccu=27.64% Eta=0.014693280768\n",
      "11/45 16.15s Tloss=2.153 Taccu=26.86% Vloss=2.152 Vaccu=26.84% Eta=0.0132239526912\n",
      "12/45 17.67s Tloss=2.068 Taccu=28.35% Vloss=2.066 Vaccu=28.01% Eta=0.0158687432294\n",
      "13/45 19.12s Tloss=2.107 Taccu=28.34% Vloss=2.115 Vaccu=27.83% Eta=0.0142818689065\n",
      "14/45 20.61s Tloss=2.109 Taccu=28.42% Vloss=2.114 Vaccu=28.09% Eta=0.0128536820158\n",
      "15/45 22.17s Tloss=2.16 Taccu=28.01% Vloss=2.165 Vaccu=27.5% Eta=0.0115683138143\n",
      "16/45 23.52s Tloss=2.093 Taccu=28.98% Vloss=2.094 Vaccu=29.01% Eta=0.0138819765771\n",
      "17/45 24.95s Tloss=2.16 Taccu=28.31% Vloss=2.165 Vaccu=28.15% Eta=0.0124937789194\n",
      "18/45 26.40s Tloss=2.158 Taccu=28.28% Vloss=2.164 Vaccu=27.75% Eta=0.0149925347033\n",
      "19/45 27.73s Tloss=2.188 Taccu=28.11% Vloss=2.191 Vaccu=28.22% Eta=0.013493281233\n",
      "20/45 28.99s Tloss=2.28 Taccu=27.49% Vloss=2.282 Vaccu=27.46% Eta=0.0121439531097\n",
      "21/45 30.36s Tloss=2.196 Taccu=28.48% Vloss=2.2 Vaccu=28.71% Eta=0.0145727437316\n",
      "22/45 31.78s Tloss=2.337 Taccu=27.62% Vloss=2.348 Vaccu=27.69% Eta=0.0131154693584\n",
      "23/45 33.20s Tloss=2.233 Taccu=27.81% Vloss=2.236 Vaccu=27.88% Eta=0.0157385632301\n",
      "24/45 34.51s Tloss=2.465 Taccu=26.84% Vloss=2.482 Vaccu=26.54% Eta=0.0141647069071\n",
      "25/45 35.76s Tloss=2.317 Taccu=26.85% Vloss=2.327 Vaccu=26.85% Eta=0.0169976482885\n",
      "26/45 37.09s Tloss=2.255 Taccu=28.38% Vloss=2.265 Vaccu=28.17% Eta=0.0203971779462\n",
      "27/45 38.36s Tloss=2.492 Taccu=27.97% Vloss=2.509 Vaccu=27.82% Eta=0.0183574601516\n",
      "28/45 39.65s Tloss=2.53 Taccu=27.48% Vloss=2.55 Vaccu=27.58% Eta=0.0165217141364\n",
      "29/45 41.14s Tloss=2.517 Taccu=27.44% Vloss=2.536 Vaccu=27.2% Eta=0.0198260569637\n",
      "30/45 42.55s Tloss=2.389 Taccu=28.48% Vloss=2.399 Vaccu=28.16% Eta=0.0237912683565\n",
      "31/45 43.93s Tloss=2.782 Taccu=27.33% Vloss=2.806 Vaccu=26.82% Eta=0.0214121415208\n",
      "32/45 45.30s Tloss=2.469 Taccu=27.84% Vloss=2.485 Vaccu=27.12% Eta=0.025694569825\n",
      "33/45 46.62s Tloss=2.852 Taccu=25.68% Vloss=2.876 Vaccu=25.78% Eta=0.0231251128425\n",
      "34/45 47.91s Tloss=2.371 Taccu=29.95% Vloss=2.384 Vaccu=30.03% Eta=0.027750135411\n",
      "35/45 49.20s Tloss=2.465 Taccu=29.52% Vloss=2.486 Vaccu=29.24% Eta=0.0249751218699\n",
      "36/45 50.36s Tloss=2.685 Taccu=27.96% Vloss=2.72 Vaccu=27.29% Eta=0.0224776096829\n",
      "37/45 51.80s Tloss=2.837 Taccu=28.79% Vloss=2.862 Vaccu=28.41% Eta=0.0202298487146\n",
      "38/45 53.22s Tloss=2.474 Taccu=29.91% Vloss=2.504 Vaccu=29.29% Eta=0.0242758184575\n",
      "39/45 54.55s Tloss=2.45 Taccu=28.61% Vloss=2.474 Vaccu=27.59% Eta=0.0291309821491\n",
      "40/45 55.86s Tloss=2.862 Taccu=26.18% Vloss=2.855 Vaccu=26.34% Eta=0.0262178839342\n",
      "41/45 57.14s Tloss=2.985 Taccu=26.78% Vloss=3.028 Vaccu=25.86% Eta=0.0235960955407\n",
      "42/45 58.54s Tloss=2.881 Taccu=27.82% Vloss=2.876 Vaccu=27.84% Eta=0.0283153146489\n",
      "43/45 59.95s Tloss=2.867 Taccu=27.63% Vloss=2.892 Vaccu=27.16% Eta=0.0339783775787\n",
      "44/45 61.32s Tloss=2.512 Taccu=27.38% Vloss=2.521 Vaccu=26.71% Eta=0.0407740530944\n",
      "45/45 62.73s Tloss=2.768 Taccu=23.95% Vloss=2.795 Vaccu=23.92% Eta=0.036696647785\n"
     ]
    }
   ],
   "source": [
    "import copy\n",
    "# Data structures for plotting\n",
    "g_i = []\n",
    "g_train_loss=[]\n",
    "g_train_acc=[]\n",
    "g_valid_loss=[]\n",
    "g_valid_acc=[]\n",
    "\n",
    "#############################\n",
    "### Auxiliary variables\n",
    "#############################\n",
    "cumul_time = 0.\n",
    "n_batch = int(math.ceil(float(n_training)/batch_size))\n",
    "regularizer = None\n",
    "lamda = 0.\n",
    "last_loss=np.inf\n",
    "\n",
    "# Convert the labels to one-hot vector\n",
    "one_hot = np.zeros((n_label,n_training))\n",
    "one_hot[train_set[1],np.arange(n_training)]=1.\n",
    "\n",
    "print('Architecture = {} | Batch size = {} | Eta = {} | Act Func={}'.format(nn_arch, batch_size, eta, acti_fun))\n",
    "\n",
    "#############################\n",
    "### Learning process\n",
    "#############################\n",
    "for i in range(n_epoch):\n",
    "    W_copy=copy.deepcopy(W)\n",
    "    B_copy=copy.deepcopy(B)\n",
    "    for j in range(n_batch):\n",
    "\n",
    "        ### Mini-batch creation\n",
    "        batch, one_hot_batch, mini_batch_size = getMiniBatch(j, batch_size, train_set, one_hot)\n",
    "\n",
    "        prev_time = time.clock()\n",
    "\n",
    "        ### Forward propagation\n",
    "        Y, Yp = forward(act_func, W, B, batch)\n",
    "\n",
    "        ### Compute the softmax\n",
    "        out = softmax(Y[-1])\n",
    "        \n",
    "        ### Compute the gradient at the top layer\n",
    "        derror = out - one_hot_batch\n",
    "\n",
    "        ### Backpropagation\n",
    "        gradB = backward(derror, W, Yp)\n",
    "\n",
    "        ### Update the parameters\n",
    "        W, B = update(eta, batch_size, W, B, gradB, Y, regularizer, lamda)\n",
    "\n",
    "        curr_time = time.clock()\n",
    "        cumul_time += curr_time - prev_time\n",
    "\n",
    "    ### Training accuracy\n",
    "    train_loss, train_accuracy = computeLoss(act_func, W, B, train_set[0], train_set[1]) \n",
    "\n",
    "    ### Valid accuracy\n",
    "    valid_loss, valid_accuracy = computeLoss(act_func, W, B, valid_set[0], valid_set[1])\n",
    "    \n",
    "    if (train_loss<last_loss):\n",
    "        eta*=1.2\n",
    "    else:\n",
    "        eta*=0.9\n",
    "        W=W_copy\n",
    "        B=B_copy\n",
    "    last_loss=train_loss\n",
    "\n",
    "    g_i = np.append(g_i, i)\n",
    "    g_train_loss = np.append(g_train_loss, train_loss)\n",
    "    g_train_acc = np.append(g_train_acc, train_accuracy)\n",
    "    g_valid_loss = np.append(g_valid_loss, valid_loss)\n",
    "    g_valid_acc = np.append(g_valid_acc, valid_accuracy)\n",
    "    print('{:02d}/{} {:.2f}s Tloss={:.4} Taccu={:.4}% Vloss={:.4} Vaccu={:.4}% Eta={}'.format(i+1, n_epoch, cumul_time, train_loss, train_accuracy*100, valid_loss, valid_accuracy*100, eta))\n",
    "    sys.stdout.flush() # Force emptying the stdout buffer"
   ]
  },
  {
   "cell_type": "code",
   "execution_count": 13,
   "metadata": {
    "scrolled": false
   },
   "outputs": [
    {
     "data": {
      "text/plain": [
       "<matplotlib.legend.Legend at 0xbed4c18>"
      ]
     },
     "execution_count": 13,
     "metadata": {},
     "output_type": "execute_result"
    },
    {
     "data": {
      "image/png": "[encoded data removed]",
      "text/plain": [
       "<matplotlib.figure.Figure at 0x899acf8>"
      ]
     },
     "metadata": {},
     "output_type": "display_data"
    }
   ],
   "source": [
    "plt.plot(g_i,g_train_loss,label='train_loss')\n",
    "plt.plot(g_i,g_valid_loss,label='valid_loss')\n",
    "plt.xlabel(\"epoch\")\n",
    "plt.ylabel(\"Negative log-likelihood\")\n",
    "plt.legend()"
   ]
  },
  {
   "cell_type": "code",
   "execution_count": 14,
   "metadata": {},
   "outputs": [
    {
     "data": {
      "text/plain": [
       "<matplotlib.legend.Legend at 0xbdfdf28>"
      ]
     },
     "execution_count": 14,
     "metadata": {},
     "output_type": "execute_result"
    },
    {
     "data": {
      "image/png": "[encoded data removed]",
      "text/plain": [
       "<matplotlib.figure.Figure at 0x899ae48>"
      ]
     },
     "metadata": {},
     "output_type": "display_data"
    }
   ],
   "source": [
    "plt.plot(g_i,g_train_acc,label='train_acc')\n",
    "plt.plot(g_i,g_valid_acc,label='valid_acc')\n",
    "plt.xlabel(\"epoch\")\n",
    "plt.ylabel(\"Accuracy\")\n",
    "plt.ylim([0.,1.])\n",
    "plt.legend()"
   ]
  }
 ],
 "metadata": {
  "kernelspec": {
   "display_name": "Python 2",
   "language": "python",
   "name": "python2"
  },
  "language_info": {
   "codemirror_mode": {
    "name": "ipython",
    "version": 2
   },
   "file_extension": ".py",
   "mimetype": "text/x-python",
   "name": "python",
   "nbconvert_exporter": "python",
   "pygments_lexer": "ipython2",
   "version": "2.7.13"
  }
 },
 "nbformat": 4,
 "nbformat_minor": 1
}
